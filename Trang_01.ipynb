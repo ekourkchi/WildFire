{
 "cells": [
  {
   "cell_type": "code",
   "execution_count": 1,
   "metadata": {},
   "outputs": [],
   "source": [
    "import sys, os\n",
    "import matplotlib.pyplot as plt\n",
    "import numpy as np\n",
    "import gdal"
   ]
  },
  {
   "cell_type": "markdown",
   "metadata": {},
   "source": [
    "## Reading the input file"
   ]
  },
  {
   "cell_type": "code",
   "execution_count": 2,
   "metadata": {},
   "outputs": [],
   "source": [
    "filename='./MOD13Q1.A2003017.h03v06.061.2020090100102.hdf'\n",
    "\n",
    "try:\n",
    "    ds = gdal.Open(filename)\n",
    "except RuntimeError as ex:\n",
    "    raise IOError(ex)\n",
    "\n"
   ]
  },
  {
   "cell_type": "markdown",
   "metadata": {},
   "source": [
    "## Diaplay all methods and attributes of the ds"
   ]
  },
  {
   "cell_type": "code",
   "execution_count": 3,
   "metadata": {
    "scrolled": true
   },
   "outputs": [
    {
     "name": "stdout",
     "output_type": "stream",
     "text": [
      "AddBand\n",
      "AdviseRead\n",
      "BeginAsyncReader\n",
      "BuildOverviews\n",
      "CommitTransaction\n",
      "CopyLayer\n",
      "CreateLayer\n",
      "CreateMaskBand\n",
      "DeleteLayer\n",
      "EndAsyncReader\n",
      "ExecuteSQL\n",
      "FlushCache\n",
      "GetDescription\n",
      "GetDriver\n",
      "GetFileList\n",
      "GetGCPCount\n",
      "GetGCPProjection\n",
      "GetGCPSpatialRef\n",
      "GetGCPs\n",
      "GetGeoTransform\n",
      "GetLayer\n",
      "GetLayerByIndex\n",
      "GetLayerByName\n",
      "GetLayerCount\n",
      "GetMetadata\n",
      "GetMetadataDomainList\n",
      "GetMetadataItem\n",
      "GetMetadata_Dict\n",
      "GetMetadata_List\n",
      "GetNextFeature\n",
      "GetProjection\n",
      "GetProjectionRef\n",
      "GetRasterBand\n",
      "GetSpatialRef\n",
      "GetStyleTable\n",
      "GetSubDatasets\n",
      "GetTiledVirtualMem\n",
      "GetTiledVirtualMemArray\n",
      "GetVirtualMem\n",
      "GetVirtualMemArray\n",
      "RasterCount\n",
      "RasterXSize\n",
      "RasterYSize\n",
      "ReadAsArray\n",
      "ReadRaster\n",
      "ReadRaster1\n",
      "ReleaseResultSet\n",
      "ResetReading\n",
      "RollbackTransaction\n",
      "SetDescription\n",
      "SetGCPs\n",
      "SetGeoTransform\n",
      "SetMetadata\n",
      "SetMetadataItem\n",
      "SetProjection\n",
      "SetSpatialRef\n",
      "SetStyleTable\n",
      "StartTransaction\n",
      "TestCapability\n",
      "WriteRaster\n",
      "_SetGCPs\n",
      "_SetGCPs2\n",
      "__class__\n",
      "__del__\n",
      "__delattr__\n",
      "__dict__\n",
      "__dir__\n",
      "__doc__\n",
      "__eq__\n",
      "__format__\n",
      "__ge__\n",
      "__getattr__\n",
      "__getattribute__\n",
      "__gt__\n",
      "__hash__\n",
      "__init__\n",
      "__init_subclass__\n",
      "__le__\n",
      "__lt__\n",
      "__module__\n",
      "__ne__\n",
      "__new__\n",
      "__reduce__\n",
      "__reduce_ex__\n",
      "__repr__\n",
      "__setattr__\n",
      "__sizeof__\n",
      "__str__\n",
      "__subclasshook__\n",
      "__swig_destroy__\n",
      "__swig_getmethods__\n",
      "__swig_setmethods__\n",
      "__weakref__\n",
      "_s\n",
      "this\n"
     ]
    }
   ],
   "source": [
    "for attrb in dir(ds):\n",
    "    print(attrb)"
   ]
  },
  {
   "cell_type": "markdown",
   "metadata": {},
   "source": [
    "## Loading the data strucure subsets"
   ]
  },
  {
   "cell_type": "code",
   "execution_count": 4,
   "metadata": {},
   "outputs": [
    {
     "name": "stdout",
     "output_type": "stream",
     "text": [
      "Number of subArrays:  12\n"
     ]
    },
    {
     "data": {
      "text/plain": [
       "[('HDF4_EOS:EOS_GRID:\"./MOD13Q1.A2003017.h03v06.061.2020090100102.hdf\":MODIS_Grid_16DAY_250m_500m_VI:\"250m 16 days NDVI\"',\n",
       "  '[4800x4800] 250m 16 days NDVI MODIS_Grid_16DAY_250m_500m_VI (16-bit integer)'),\n",
       " ('HDF4_EOS:EOS_GRID:\"./MOD13Q1.A2003017.h03v06.061.2020090100102.hdf\":MODIS_Grid_16DAY_250m_500m_VI:\"250m 16 days EVI\"',\n",
       "  '[4800x4800] 250m 16 days EVI MODIS_Grid_16DAY_250m_500m_VI (16-bit integer)'),\n",
       " ('HDF4_EOS:EOS_GRID:\"./MOD13Q1.A2003017.h03v06.061.2020090100102.hdf\":MODIS_Grid_16DAY_250m_500m_VI:\"250m 16 days VI Quality\"',\n",
       "  '[4800x4800] 250m 16 days VI Quality MODIS_Grid_16DAY_250m_500m_VI (16-bit unsigned integer)'),\n",
       " ('HDF4_EOS:EOS_GRID:\"./MOD13Q1.A2003017.h03v06.061.2020090100102.hdf\":MODIS_Grid_16DAY_250m_500m_VI:\"250m 16 days red reflectance\"',\n",
       "  '[4800x4800] 250m 16 days red reflectance MODIS_Grid_16DAY_250m_500m_VI (16-bit integer)'),\n",
       " ('HDF4_EOS:EOS_GRID:\"./MOD13Q1.A2003017.h03v06.061.2020090100102.hdf\":MODIS_Grid_16DAY_250m_500m_VI:\"250m 16 days NIR reflectance\"',\n",
       "  '[4800x4800] 250m 16 days NIR reflectance MODIS_Grid_16DAY_250m_500m_VI (16-bit integer)'),\n",
       " ('HDF4_EOS:EOS_GRID:\"./MOD13Q1.A2003017.h03v06.061.2020090100102.hdf\":MODIS_Grid_16DAY_250m_500m_VI:\"250m 16 days blue reflectance\"',\n",
       "  '[4800x4800] 250m 16 days blue reflectance MODIS_Grid_16DAY_250m_500m_VI (16-bit integer)'),\n",
       " ('HDF4_EOS:EOS_GRID:\"./MOD13Q1.A2003017.h03v06.061.2020090100102.hdf\":MODIS_Grid_16DAY_250m_500m_VI:\"250m 16 days MIR reflectance\"',\n",
       "  '[4800x4800] 250m 16 days MIR reflectance MODIS_Grid_16DAY_250m_500m_VI (16-bit integer)'),\n",
       " ('HDF4_EOS:EOS_GRID:\"./MOD13Q1.A2003017.h03v06.061.2020090100102.hdf\":MODIS_Grid_16DAY_250m_500m_VI:\"250m 16 days view zenith angle\"',\n",
       "  '[4800x4800] 250m 16 days view zenith angle MODIS_Grid_16DAY_250m_500m_VI (16-bit integer)'),\n",
       " ('HDF4_EOS:EOS_GRID:\"./MOD13Q1.A2003017.h03v06.061.2020090100102.hdf\":MODIS_Grid_16DAY_250m_500m_VI:\"250m 16 days sun zenith angle\"',\n",
       "  '[4800x4800] 250m 16 days sun zenith angle MODIS_Grid_16DAY_250m_500m_VI (16-bit integer)'),\n",
       " ('HDF4_EOS:EOS_GRID:\"./MOD13Q1.A2003017.h03v06.061.2020090100102.hdf\":MODIS_Grid_16DAY_250m_500m_VI:\"250m 16 days relative azimuth angle\"',\n",
       "  '[4800x4800] 250m 16 days relative azimuth angle MODIS_Grid_16DAY_250m_500m_VI (16-bit integer)'),\n",
       " ('HDF4_EOS:EOS_GRID:\"./MOD13Q1.A2003017.h03v06.061.2020090100102.hdf\":MODIS_Grid_16DAY_250m_500m_VI:\"250m 16 days composite day of the year\"',\n",
       "  '[4800x4800] 250m 16 days composite day of the year MODIS_Grid_16DAY_250m_500m_VI (16-bit integer)'),\n",
       " ('HDF4_EOS:EOS_GRID:\"./MOD13Q1.A2003017.h03v06.061.2020090100102.hdf\":MODIS_Grid_16DAY_250m_500m_VI:\"250m 16 days pixel reliability\"',\n",
       "  '[4800x4800] 250m 16 days pixel reliability MODIS_Grid_16DAY_250m_500m_VI (8-bit integer)')]"
      ]
     },
     "execution_count": 4,
     "metadata": {},
     "output_type": "execute_result"
    }
   ],
   "source": [
    "subdatasets = ds.GetSubDatasets()\n",
    "\n",
    "print(\"Number of subArrays: \", len(subdatasets))\n",
    "\n",
    "subdatasets"
   ]
  },
  {
   "cell_type": "markdown",
   "metadata": {},
   "source": [
    "## Reading the first dataArray as example"
   ]
  },
  {
   "cell_type": "code",
   "execution_count": 5,
   "metadata": {
    "scrolled": true
   },
   "outputs": [
    {
     "name": "stdout",
     "output_type": "stream",
     "text": [
      "Data Substrucutre:  HDF4_EOS:EOS_GRID:\"./MOD13Q1.A2003017.h03v06.061.2020090100102.hdf\":MODIS_Grid_16DAY_250m_500m_VI:\"250m 16 days NDVI\"\n",
      "Data Shape:  (4800, 4800)\n"
     ]
    }
   ],
   "source": [
    "mysubdataset_name = subdatasets[0][0]\n",
    "\n",
    "mydata = gdal.Open(mysubdataset_name)\n",
    "dataArray = mydata.ReadAsArray()\n",
    "\n",
    "print(\"Data Substrucutre: \", mysubdataset_name)\n",
    "print(\"Data Shape: \", dataArray.shape)"
   ]
  },
  {
   "cell_type": "markdown",
   "metadata": {},
   "source": [
    "### In this example, all memebrs of the array seem to be -3000"
   ]
  },
  {
   "cell_type": "code",
   "execution_count": 6,
   "metadata": {},
   "outputs": [
    {
     "data": {
      "text/plain": [
       "array([[-3000, -3000, -3000, ..., -3000, -3000, -3000],\n",
       "       [-3000, -3000, -3000, ..., -3000, -3000, -3000],\n",
       "       [-3000, -3000, -3000, ..., -3000, -3000, -3000],\n",
       "       ...,\n",
       "       [-3000, -3000, -3000, ..., -3000, -3000, -3000],\n",
       "       [-3000, -3000, -3000, ..., -3000, -3000, -3000],\n",
       "       [-3000, -3000, -3000, ..., -3000, -3000, -3000]], dtype=int16)"
      ]
     },
     "execution_count": 6,
     "metadata": {},
     "output_type": "execute_result"
    }
   ],
   "source": [
    "dataArray"
   ]
  },
  {
   "cell_type": "markdown",
   "metadata": {},
   "source": [
    "### See the metaData of the data strucutre"
   ]
  },
  {
   "cell_type": "code",
   "execution_count": 7,
   "metadata": {},
   "outputs": [
    {
     "data": {
      "text/plain": [
       "{'ALGORITHMPACKAGEACCEPTANCEDATE': '102004',\n",
       " 'ALGORITHMPACKAGEMATURITYCODE': 'Normal',\n",
       " 'ALGORITHMPACKAGENAME': 'MOD_PR13A1',\n",
       " 'ALGORITHMPACKAGEVERSION': '6',\n",
       " 'ASSOCIATEDINSTRUMENTSHORTNAME.1': 'MODIS',\n",
       " 'ASSOCIATEDPLATFORMSHORTNAME.1': 'Terra',\n",
       " 'ASSOCIATEDSENSORSHORTNAME.1': 'MODIS',\n",
       " 'AUTOMATICQUALITYFLAG.1': 'Passed',\n",
       " 'AUTOMATICQUALITYFLAG.10': 'Passed',\n",
       " 'AUTOMATICQUALITYFLAG.11': 'Passed',\n",
       " 'AUTOMATICQUALITYFLAG.12': 'Passed',\n",
       " 'AUTOMATICQUALITYFLAG.2': 'Passed',\n",
       " 'AUTOMATICQUALITYFLAG.3': 'Passed',\n",
       " 'AUTOMATICQUALITYFLAG.4': 'Passed',\n",
       " 'AUTOMATICQUALITYFLAG.5': 'Passed',\n",
       " 'AUTOMATICQUALITYFLAG.6': 'Passed',\n",
       " 'AUTOMATICQUALITYFLAG.7': 'Passed',\n",
       " 'AUTOMATICQUALITYFLAG.8': 'Passed',\n",
       " 'AUTOMATICQUALITYFLAG.9': 'Passed',\n",
       " 'AUTOMATICQUALITYFLAGEXPLANATION.1': 'No automatic quality assessment is performed in the PGE',\n",
       " 'AUTOMATICQUALITYFLAGEXPLANATION.10': 'No automatic quality assessment is performed in the PGE',\n",
       " 'AUTOMATICQUALITYFLAGEXPLANATION.11': 'No automatic quality assessment is performed in the PGE',\n",
       " 'AUTOMATICQUALITYFLAGEXPLANATION.12': 'No automatic quality assessment is performed in the PGE',\n",
       " 'AUTOMATICQUALITYFLAGEXPLANATION.2': 'No automatic quality assessment is performed in the PGE',\n",
       " 'AUTOMATICQUALITYFLAGEXPLANATION.3': 'No automatic quality assessment is performed in the PGE',\n",
       " 'AUTOMATICQUALITYFLAGEXPLANATION.4': 'No automatic quality assessment is performed in the PGE',\n",
       " 'AUTOMATICQUALITYFLAGEXPLANATION.5': 'No automatic quality assessment is performed in the PGE',\n",
       " 'AUTOMATICQUALITYFLAGEXPLANATION.6': 'No automatic quality assessment is performed in the PGE',\n",
       " 'AUTOMATICQUALITYFLAGEXPLANATION.7': 'No automatic quality assessment is performed in the PGE',\n",
       " 'AUTOMATICQUALITYFLAGEXPLANATION.8': 'No automatic quality assessment is performed in the PGE',\n",
       " 'AUTOMATICQUALITYFLAGEXPLANATION.9': 'No automatic quality assessment is performed in the PGE',\n",
       " 'CHARACTERISTICBINANGULARSIZE': '7.5',\n",
       " 'CHARACTERISTICBINSIZE': '231.656358263889',\n",
       " 'DATACOLUMNS': '4800',\n",
       " 'DATAROWS': '4800',\n",
       " 'DAYNIGHTFLAG': 'Day',\n",
       " 'DAYSOFYEAR': '17, 18, 19, 20, 21, 22, 23, 24, 25, 26, 27, 28, 29, 30, 31, -1',\n",
       " 'DAYSPROCESSED': '2003017, 2003018, 2003019, 2003020, 2003021, 2003022, 2003023, 2003024, 2003025, 2003026, 2003027, 2003028, 2003029, 2003030, 2003031',\n",
       " 'DESCRREVISION': '6.1',\n",
       " 'EASTBOUNDINGCOORDINATE': '-148.976019983445',\n",
       " 'EVI250M16DAYQCLASSPERCENTAGE': '0',\n",
       " 'EXCLUSIONGRINGFLAG.1': 'N',\n",
       " 'GEOANYABNORMAL': 'True',\n",
       " 'GEOESTMAXRMSERROR': '50.0',\n",
       " 'GLOBALGRIDCOLUMNS': '172800',\n",
       " 'GLOBALGRIDROWS': '86400',\n",
       " 'GRINGPOINTLATITUDE.1': '19.8717303457793, 29.9999999973059, 30.078924227352, 19.9497593174411',\n",
       " 'GRINGPOINTLONGITUDE.1': '-159.578102689642, -173.205080736631, -161.250864786664, -148.581558212795',\n",
       " 'GRINGPOINTSEQUENCENO.1': '1, 2, 3, 4',\n",
       " 'HDFEOSVersion': 'HDFEOS_V2.19',\n",
       " 'HORIZONTALTILENUMBER': '03',\n",
       " 'identifier_product_doi': '10.5067/MODIS/MOD13Q1.061',\n",
       " 'identifier_product_doi_authority': 'http://dx.doi.org',\n",
       " 'INPUTFILENAME': 'MOD09Q1.A2003017.h03v06.061.2020085043556.hdf, MOD09Q1.A2003025.h03v06.061.2020085160424.hdf, MOD09A1.A2003017.h03v06.061.2020085043556.hdf, MOD09A1.A2003025.h03v06.061.2020085160424.hdf',\n",
       " 'INPUTPOINTER': 'MOD09Q1.A2003017.h03v06.061.2020085043556.hdf, MOD09Q1.A2003025.h03v06.061.2020085160424.hdf, MOD09A1.A2003017.h03v06.061.2020085043556.hdf, MOD09A1.A2003025.h03v06.061.2020085160424.hdf',\n",
       " 'INPUTPRODUCTRESOLUTION': 'Product input resolution 250m',\n",
       " 'INSTRUMENTNAME': 'Moderate-Resolution Imaging SpectroRadiometer',\n",
       " 'LOCALGRANULEID': 'MOD13Q1.A2003017.h03v06.061.2020090100102.hdf',\n",
       " 'LOCALVERSIONID': '6.0.33',\n",
       " 'LONGNAME': 'MODIS/Terra Vegetation Indices 16-Day L3 Global 250m SIN Grid',\n",
       " 'NDVI250M16DAYQCLASSPERCENTAGE': '0',\n",
       " 'NORTHBOUNDINGCOORDINATE': '29.9999999973059',\n",
       " 'NUMBEROFDAYS': '15',\n",
       " 'PARAMETERNAME.1': '250m 16 days NDVI',\n",
       " 'PARAMETERNAME.10': '250m 16 days relative azimuth angle',\n",
       " 'PARAMETERNAME.11': '250m 16 days composite day of the year',\n",
       " 'PARAMETERNAME.12': '250m 16 days pixel reliability',\n",
       " 'PARAMETERNAME.2': '250m 16 days EVI',\n",
       " 'PARAMETERNAME.3': '250m 16 days VI Quality',\n",
       " 'PARAMETERNAME.4': '250m 16 days red reflectance',\n",
       " 'PARAMETERNAME.5': '250m 16 days NIR reflectance',\n",
       " 'PARAMETERNAME.6': '250m 16 days blue reflectance',\n",
       " 'PARAMETERNAME.7': '250m 16 days MIR reflectance',\n",
       " 'PARAMETERNAME.8': '250m 16 days view zenith angle',\n",
       " 'PARAMETERNAME.9': '250m 16 days sun zenith angle',\n",
       " 'PERCENTLAND': '100',\n",
       " 'PGEVERSION': '6.1.0',\n",
       " 'PROCESSINGCENTER': 'MODAPS',\n",
       " 'PROCESSINGENVIRONMENT': 'Linux minion7432 3.10.0-1062.12.1.el7.x86_64 #1 SMP Tue Feb 4 23:02:59 UTC 2020 x86_64 x86_64 x86_64 GNU/Linux',\n",
       " 'PRODUCTIONDATETIME': '2020-03-30T14:01:02.000Z',\n",
       " 'PRODUCTIONTYPE': 'Regular Production [1-16,17-32,33-48,...353-2/3]',\n",
       " 'QAPERCENTCLOUDCOVER.1': '15',\n",
       " 'QAPERCENTCLOUDCOVER.10': '15',\n",
       " 'QAPERCENTCLOUDCOVER.11': '15',\n",
       " 'QAPERCENTCLOUDCOVER.12': '15',\n",
       " 'QAPERCENTCLOUDCOVER.2': '15',\n",
       " 'QAPERCENTCLOUDCOVER.3': '15',\n",
       " 'QAPERCENTCLOUDCOVER.4': '15',\n",
       " 'QAPERCENTCLOUDCOVER.5': '15',\n",
       " 'QAPERCENTCLOUDCOVER.6': '15',\n",
       " 'QAPERCENTCLOUDCOVER.7': '15',\n",
       " 'QAPERCENTCLOUDCOVER.8': '15',\n",
       " 'QAPERCENTCLOUDCOVER.9': '15',\n",
       " 'QAPERCENTGOODQUALITY': '68',\n",
       " 'QAPERCENTINTERPOLATEDDATA.1': '100',\n",
       " 'QAPERCENTINTERPOLATEDDATA.10': '100',\n",
       " 'QAPERCENTINTERPOLATEDDATA.11': '100',\n",
       " 'QAPERCENTINTERPOLATEDDATA.12': '100',\n",
       " 'QAPERCENTINTERPOLATEDDATA.2': '100',\n",
       " 'QAPERCENTINTERPOLATEDDATA.3': '100',\n",
       " 'QAPERCENTINTERPOLATEDDATA.4': '100',\n",
       " 'QAPERCENTINTERPOLATEDDATA.5': '100',\n",
       " 'QAPERCENTINTERPOLATEDDATA.6': '100',\n",
       " 'QAPERCENTINTERPOLATEDDATA.7': '100',\n",
       " 'QAPERCENTINTERPOLATEDDATA.8': '100',\n",
       " 'QAPERCENTINTERPOLATEDDATA.9': '100',\n",
       " 'QAPERCENTMISSINGDATA.1': '0',\n",
       " 'QAPERCENTMISSINGDATA.10': '0',\n",
       " 'QAPERCENTMISSINGDATA.11': '0',\n",
       " 'QAPERCENTMISSINGDATA.12': '0',\n",
       " 'QAPERCENTMISSINGDATA.2': '0',\n",
       " 'QAPERCENTMISSINGDATA.3': '0',\n",
       " 'QAPERCENTMISSINGDATA.4': '0',\n",
       " 'QAPERCENTMISSINGDATA.5': '0',\n",
       " 'QAPERCENTMISSINGDATA.6': '0',\n",
       " 'QAPERCENTMISSINGDATA.7': '0',\n",
       " 'QAPERCENTMISSINGDATA.8': '0',\n",
       " 'QAPERCENTMISSINGDATA.9': '0',\n",
       " 'QAPERCENTNOTPRODUCEDCLOUD': '0',\n",
       " 'QAPERCENTNOTPRODUCEDOTHER': '1',\n",
       " 'QAPERCENTOTHERQUALITY': '31',\n",
       " 'QAPERCENTOUTOFBOUNDSDATA.1': '0',\n",
       " 'QAPERCENTOUTOFBOUNDSDATA.10': '0',\n",
       " 'QAPERCENTOUTOFBOUNDSDATA.11': '0',\n",
       " 'QAPERCENTOUTOFBOUNDSDATA.12': '0',\n",
       " 'QAPERCENTOUTOFBOUNDSDATA.2': '0',\n",
       " 'QAPERCENTOUTOFBOUNDSDATA.3': '0',\n",
       " 'QAPERCENTOUTOFBOUNDSDATA.4': '0',\n",
       " 'QAPERCENTOUTOFBOUNDSDATA.5': '0',\n",
       " 'QAPERCENTOUTOFBOUNDSDATA.6': '0',\n",
       " 'QAPERCENTOUTOFBOUNDSDATA.7': '0',\n",
       " 'QAPERCENTOUTOFBOUNDSDATA.8': '0',\n",
       " 'QAPERCENTOUTOFBOUNDSDATA.9': '0',\n",
       " 'QAPERCENTPOORQ250MOR500M16DAYEVI': '0, 52, 14, 14, 11, 3, 4, 1, 0, 0, 0, 0, 0, 0, 0, 1',\n",
       " 'QAPERCENTPOORQ250MOR500M16DAYNDVI': '0, 52, 14, 14, 11, 3, 4, 1, 0, 0, 0, 0, 0, 0, 0, 1',\n",
       " 'QA_STRUCTURE_STYLE': 'C5 or later',\n",
       " 'RANGEBEGINNINGDATE': '2003-01-17',\n",
       " 'RANGEBEGINNINGTIME': '00:00:00',\n",
       " 'RANGEENDINGDATE': '2003-02-01',\n",
       " 'RANGEENDINGTIME': '23:59:59',\n",
       " 'REPROCESSINGACTUAL': 'reprocessed',\n",
       " 'REPROCESSINGPLANNED': 'further update is anticipated',\n",
       " 'SCIENCEQUALITYFLAG.1': 'Not Investigated',\n",
       " 'SCIENCEQUALITYFLAG.10': 'Not Investigated',\n",
       " 'SCIENCEQUALITYFLAG.11': 'Not Investigated',\n",
       " 'SCIENCEQUALITYFLAG.12': 'Not Investigated',\n",
       " 'SCIENCEQUALITYFLAG.2': 'Not Investigated',\n",
       " 'SCIENCEQUALITYFLAG.3': 'Not Investigated',\n",
       " 'SCIENCEQUALITYFLAG.4': 'Not Investigated',\n",
       " 'SCIENCEQUALITYFLAG.5': 'Not Investigated',\n",
       " 'SCIENCEQUALITYFLAG.6': 'Not Investigated',\n",
       " 'SCIENCEQUALITYFLAG.7': 'Not Investigated',\n",
       " 'SCIENCEQUALITYFLAG.8': 'Not Investigated',\n",
       " 'SCIENCEQUALITYFLAG.9': 'Not Investigated',\n",
       " 'SCIENCEQUALITYFLAGEXPLANATION.1': 'See http://landweb.nascom.nasa.gov/cgi-bin/QA_WWW/qaFlagPage.cgi?sat=terra&ver=C6 for the product Science Quality status.',\n",
       " 'SCIENCEQUALITYFLAGEXPLANATION.10': 'See http://landweb.nascom.nasa.gov/cgi-bin/QA_WWW/qaFlagPage.cgi?sat=terra&ver=C6 for the product Science Quality status.',\n",
       " 'SCIENCEQUALITYFLAGEXPLANATION.11': 'See http://landweb.nascom.nasa.gov/cgi-bin/QA_WWW/qaFlagPage.cgi?sat=terra&ver=C6 for the product Science Quality status.',\n",
       " 'SCIENCEQUALITYFLAGEXPLANATION.12': 'See http://landweb.nascom.nasa.gov/cgi-bin/QA_WWW/qaFlagPage.cgi?sat=terra&ver=C6 for the product Science Quality status.',\n",
       " 'SCIENCEQUALITYFLAGEXPLANATION.2': 'See http://landweb.nascom.nasa.gov/cgi-bin/QA_WWW/qaFlagPage.cgi?sat=terra&ver=C6 for the product Science Quality status.',\n",
       " 'SCIENCEQUALITYFLAGEXPLANATION.3': 'See http://landweb.nascom.nasa.gov/cgi-bin/QA_WWW/qaFlagPage.cgi?sat=terra&ver=C6 for the product Science Quality status.',\n",
       " 'SCIENCEQUALITYFLAGEXPLANATION.4': 'See http://landweb.nascom.nasa.gov/cgi-bin/QA_WWW/qaFlagPage.cgi?sat=terra&ver=C6 for the product Science Quality status.',\n",
       " 'SCIENCEQUALITYFLAGEXPLANATION.5': 'See http://landweb.nascom.nasa.gov/cgi-bin/QA_WWW/qaFlagPage.cgi?sat=terra&ver=C6 for the product Science Quality status.',\n",
       " 'SCIENCEQUALITYFLAGEXPLANATION.6': 'See http://landweb.nascom.nasa.gov/cgi-bin/QA_WWW/qaFlagPage.cgi?sat=terra&ver=C6 for the product Science Quality status.',\n",
       " 'SCIENCEQUALITYFLAGEXPLANATION.7': 'See http://landweb.nascom.nasa.gov/cgi-bin/QA_WWW/qaFlagPage.cgi?sat=terra&ver=C6 for the product Science Quality status.',\n",
       " 'SCIENCEQUALITYFLAGEXPLANATION.8': 'See http://landweb.nascom.nasa.gov/cgi-bin/QA_WWW/qaFlagPage.cgi?sat=terra&ver=C6 for the product Science Quality status.',\n",
       " 'SCIENCEQUALITYFLAGEXPLANATION.9': 'See http://landweb.nascom.nasa.gov/cgi-bin/QA_WWW/qaFlagPage.cgi?sat=terra&ver=C6 for the product Science Quality status.',\n",
       " 'SHORTNAME': 'MOD13Q1',\n",
       " 'SOUTHBOUNDINGCOORDINATE': '19.9999999982039',\n",
       " 'SPSOPARAMETERS': '2749, 4334, 2749a, 4334a',\n",
       " 'TileID': '51003006',\n",
       " 'VERSIONID': '61',\n",
       " 'VERTICALTILENUMBER': '06',\n",
       " 'WESTBOUNDINGCOORDINATE': '-173.205080736631'}"
      ]
     },
     "execution_count": 7,
     "metadata": {},
     "output_type": "execute_result"
    }
   ],
   "source": [
    "metaData = ds.GetMetadata()\n",
    "\n",
    "metaData"
   ]
  },
  {
   "cell_type": "code",
   "execution_count": 8,
   "metadata": {},
   "outputs": [
    {
     "data": {
      "text/plain": [
       "'15'"
      ]
     },
     "execution_count": 8,
     "metadata": {},
     "output_type": "execute_result"
    }
   ],
   "source": [
    "# To access the specific field:\n",
    "\n",
    "metaData[\"NUMBEROFDAYS\"]"
   ]
  },
  {
   "cell_type": "code",
   "execution_count": 9,
   "metadata": {},
   "outputs": [
    {
     "data": {
      "text/plain": [
       "'2003-02-01'"
      ]
     },
     "execution_count": 9,
     "metadata": {},
     "output_type": "execute_result"
    }
   ],
   "source": [
    "metaData[\"RANGEENDINGDATE\"]"
   ]
  },
  {
   "cell_type": "code",
   "execution_count": null,
   "metadata": {},
   "outputs": [],
   "source": []
  }
 ],
 "metadata": {
  "kernelspec": {
   "display_name": "Python 3",
   "language": "python",
   "name": "python3"
  },
  "language_info": {
   "codemirror_mode": {
    "name": "ipython",
    "version": 3
   },
   "file_extension": ".py",
   "mimetype": "text/x-python",
   "name": "python",
   "nbconvert_exporter": "python",
   "pygments_lexer": "ipython3",
   "version": "3.8.5"
  }
 },
 "nbformat": 4,
 "nbformat_minor": 4
}
