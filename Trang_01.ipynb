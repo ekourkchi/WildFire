{
 "cells": [
  {
   "cell_type": "code",
   "execution_count": 13,
   "metadata": {},
   "outputs": [],
   "source": [
    "import sys, os\n",
    "import matplotlib.pyplot as plt\n",
    "import requests\n",
    "import json\n",
    "import pandas as pd\n",
    "from pandas.io import sql\n",
    "from pandas.io.json import json_normalize\n",
    "import numpy as np\n",
    "from sqlalchemy import types, create_engine\n",
    "from datetime import date, timedelta\n",
    "from datetime import datetime\n",
    "import time\n",
    "import pylab as py\n",
    "import gdal"
   ]
  },
  {
   "cell_type": "markdown",
   "metadata": {},
   "source": [
    "## Reading the input file"
   ]
  },
  {
   "cell_type": "code",
   "execution_count": 115,
   "metadata": {},
   "outputs": [],
   "source": [
    "filename='./MOD13Q1.A2003017.h03v06.061.2020090100102.hdf'\n",
    "\n",
    "try:\n",
    "    ds = gdal.Open(filename)\n",
    "except RuntimeError as ex:\n",
    "    raise IOError(ex)\n",
    "\n"
   ]
  },
  {
   "cell_type": "markdown",
   "metadata": {},
   "source": [
    "## Diaplay all methods and attributes of the ds"
   ]
  },
  {
   "cell_type": "code",
   "execution_count": 116,
   "metadata": {
    "scrolled": true
   },
   "outputs": [
    {
     "name": "stdout",
     "output_type": "stream",
     "text": [
      "AddBand\n",
      "AdviseRead\n",
      "BeginAsyncReader\n",
      "BuildOverviews\n",
      "CommitTransaction\n",
      "CopyLayer\n",
      "CreateLayer\n",
      "CreateMaskBand\n",
      "DeleteLayer\n",
      "EndAsyncReader\n",
      "ExecuteSQL\n",
      "FlushCache\n",
      "GetDescription\n",
      "GetDriver\n",
      "GetFileList\n",
      "GetGCPCount\n",
      "GetGCPProjection\n",
      "GetGCPSpatialRef\n",
      "GetGCPs\n",
      "GetGeoTransform\n",
      "GetLayer\n",
      "GetLayerByIndex\n",
      "GetLayerByName\n",
      "GetLayerCount\n",
      "GetMetadata\n",
      "GetMetadataDomainList\n",
      "GetMetadataItem\n",
      "GetMetadata_Dict\n",
      "GetMetadata_List\n",
      "GetNextFeature\n",
      "GetProjection\n",
      "GetProjectionRef\n",
      "GetRasterBand\n",
      "GetSpatialRef\n",
      "GetStyleTable\n",
      "GetSubDatasets\n",
      "GetTiledVirtualMem\n",
      "GetTiledVirtualMemArray\n",
      "GetVirtualMem\n",
      "GetVirtualMemArray\n",
      "RasterCount\n",
      "RasterXSize\n",
      "RasterYSize\n",
      "ReadAsArray\n",
      "ReadRaster\n",
      "ReadRaster1\n",
      "ReleaseResultSet\n",
      "ResetReading\n",
      "RollbackTransaction\n",
      "SetDescription\n",
      "SetGCPs\n",
      "SetGeoTransform\n",
      "SetMetadata\n",
      "SetMetadataItem\n",
      "SetProjection\n",
      "SetSpatialRef\n",
      "SetStyleTable\n",
      "StartTransaction\n",
      "TestCapability\n",
      "WriteRaster\n",
      "_SetGCPs\n",
      "_SetGCPs2\n",
      "__class__\n",
      "__del__\n",
      "__delattr__\n",
      "__dict__\n",
      "__dir__\n",
      "__doc__\n",
      "__eq__\n",
      "__format__\n",
      "__ge__\n",
      "__getattr__\n",
      "__getattribute__\n",
      "__gt__\n",
      "__hash__\n",
      "__init__\n",
      "__init_subclass__\n",
      "__le__\n",
      "__lt__\n",
      "__module__\n",
      "__ne__\n",
      "__new__\n",
      "__reduce__\n",
      "__reduce_ex__\n",
      "__repr__\n",
      "__setattr__\n",
      "__sizeof__\n",
      "__str__\n",
      "__subclasshook__\n",
      "__swig_destroy__\n",
      "__swig_getmethods__\n",
      "__swig_setmethods__\n",
      "__weakref__\n",
      "_s\n",
      "this\n"
     ]
    }
   ],
   "source": [
    "for attrb in dir(ds):\n",
    "    print(attrb)"
   ]
  },
  {
   "cell_type": "markdown",
   "metadata": {},
   "source": [
    "## Loading the data strucure subsets"
   ]
  },
  {
   "cell_type": "code",
   "execution_count": 123,
   "metadata": {},
   "outputs": [
    {
     "name": "stdout",
     "output_type": "stream",
     "text": [
      "Number of subArrays:  12\n"
     ]
    },
    {
     "data": {
      "text/plain": [
       "[('HDF4_EOS:EOS_GRID:\"./MOD13Q1.A2003017.h03v06.061.2020090100102.hdf\":MODIS_Grid_16DAY_250m_500m_VI:\"250m 16 days NDVI\"',\n",
       "  '[4800x4800] 250m 16 days NDVI MODIS_Grid_16DAY_250m_500m_VI (16-bit integer)'),\n",
       " ('HDF4_EOS:EOS_GRID:\"./MOD13Q1.A2003017.h03v06.061.2020090100102.hdf\":MODIS_Grid_16DAY_250m_500m_VI:\"250m 16 days EVI\"',\n",
       "  '[4800x4800] 250m 16 days EVI MODIS_Grid_16DAY_250m_500m_VI (16-bit integer)'),\n",
       " ('HDF4_EOS:EOS_GRID:\"./MOD13Q1.A2003017.h03v06.061.2020090100102.hdf\":MODIS_Grid_16DAY_250m_500m_VI:\"250m 16 days VI Quality\"',\n",
       "  '[4800x4800] 250m 16 days VI Quality MODIS_Grid_16DAY_250m_500m_VI (16-bit unsigned integer)'),\n",
       " ('HDF4_EOS:EOS_GRID:\"./MOD13Q1.A2003017.h03v06.061.2020090100102.hdf\":MODIS_Grid_16DAY_250m_500m_VI:\"250m 16 days red reflectance\"',\n",
       "  '[4800x4800] 250m 16 days red reflectance MODIS_Grid_16DAY_250m_500m_VI (16-bit integer)'),\n",
       " ('HDF4_EOS:EOS_GRID:\"./MOD13Q1.A2003017.h03v06.061.2020090100102.hdf\":MODIS_Grid_16DAY_250m_500m_VI:\"250m 16 days NIR reflectance\"',\n",
       "  '[4800x4800] 250m 16 days NIR reflectance MODIS_Grid_16DAY_250m_500m_VI (16-bit integer)'),\n",
       " ('HDF4_EOS:EOS_GRID:\"./MOD13Q1.A2003017.h03v06.061.2020090100102.hdf\":MODIS_Grid_16DAY_250m_500m_VI:\"250m 16 days blue reflectance\"',\n",
       "  '[4800x4800] 250m 16 days blue reflectance MODIS_Grid_16DAY_250m_500m_VI (16-bit integer)'),\n",
       " ('HDF4_EOS:EOS_GRID:\"./MOD13Q1.A2003017.h03v06.061.2020090100102.hdf\":MODIS_Grid_16DAY_250m_500m_VI:\"250m 16 days MIR reflectance\"',\n",
       "  '[4800x4800] 250m 16 days MIR reflectance MODIS_Grid_16DAY_250m_500m_VI (16-bit integer)'),\n",
       " ('HDF4_EOS:EOS_GRID:\"./MOD13Q1.A2003017.h03v06.061.2020090100102.hdf\":MODIS_Grid_16DAY_250m_500m_VI:\"250m 16 days view zenith angle\"',\n",
       "  '[4800x4800] 250m 16 days view zenith angle MODIS_Grid_16DAY_250m_500m_VI (16-bit integer)'),\n",
       " ('HDF4_EOS:EOS_GRID:\"./MOD13Q1.A2003017.h03v06.061.2020090100102.hdf\":MODIS_Grid_16DAY_250m_500m_VI:\"250m 16 days sun zenith angle\"',\n",
       "  '[4800x4800] 250m 16 days sun zenith angle MODIS_Grid_16DAY_250m_500m_VI (16-bit integer)'),\n",
       " ('HDF4_EOS:EOS_GRID:\"./MOD13Q1.A2003017.h03v06.061.2020090100102.hdf\":MODIS_Grid_16DAY_250m_500m_VI:\"250m 16 days relative azimuth angle\"',\n",
       "  '[4800x4800] 250m 16 days relative azimuth angle MODIS_Grid_16DAY_250m_500m_VI (16-bit integer)'),\n",
       " ('HDF4_EOS:EOS_GRID:\"./MOD13Q1.A2003017.h03v06.061.2020090100102.hdf\":MODIS_Grid_16DAY_250m_500m_VI:\"250m 16 days composite day of the year\"',\n",
       "  '[4800x4800] 250m 16 days composite day of the year MODIS_Grid_16DAY_250m_500m_VI (16-bit integer)'),\n",
       " ('HDF4_EOS:EOS_GRID:\"./MOD13Q1.A2003017.h03v06.061.2020090100102.hdf\":MODIS_Grid_16DAY_250m_500m_VI:\"250m 16 days pixel reliability\"',\n",
       "  '[4800x4800] 250m 16 days pixel reliability MODIS_Grid_16DAY_250m_500m_VI (8-bit integer)')]"
      ]
     },
     "execution_count": 123,
     "metadata": {},
     "output_type": "execute_result"
    }
   ],
   "source": [
    "subdatasets = ds.GetSubDatasets()\n",
    "\n",
    "print(\"Number of subArrays: \", len(subdatasets))\n",
    "\n",
    "subdatasets"
   ]
  },
  {
   "cell_type": "markdown",
   "metadata": {},
   "source": [
    "## Reading the first dataArray as example"
   ]
  },
  {
   "cell_type": "code",
   "execution_count": 126,
   "metadata": {
    "scrolled": true
   },
   "outputs": [
    {
     "name": "stdout",
     "output_type": "stream",
     "text": [
      "Data Substrucutre:  HDF4_EOS:EOS_GRID:\"./MOD13Q1.A2003017.h03v06.061.2020090100102.hdf\":MODIS_Grid_16DAY_250m_500m_VI:\"250m 16 days NDVI\"\n",
      "Data Shape:  (4800, 4800)\n"
     ]
    }
   ],
   "source": [
    "mysubdataset_name = subdatasets[0][0]\n",
    "\n",
    "mydata = gdal.Open(mysubdataset_name)\n",
    "dataArray = mydata.ReadAsArray()\n",
    "\n",
    "print(\"Data Substrucutre: \", mysubdataset_name)\n",
    "print(\"Data Shape: \", dataArray.shape)"
   ]
  },
  {
   "cell_type": "code",
   "execution_count": null,
   "metadata": {},
   "outputs": [],
   "source": []
  },
  {
   "cell_type": "code",
   "execution_count": 127,
   "metadata": {},
   "outputs": [
    {
     "data": {
      "text/plain": [
       "array([[-3000, -3000, -3000, ..., -3000, -3000, -3000],\n",
       "       [-3000, -3000, -3000, ..., -3000, -3000, -3000],\n",
       "       [-3000, -3000, -3000, ..., -3000, -3000, -3000],\n",
       "       ...,\n",
       "       [-3000, -3000, -3000, ..., -3000, -3000, -3000],\n",
       "       [-3000, -3000, -3000, ..., -3000, -3000, -3000],\n",
       "       [-3000, -3000, -3000, ..., -3000, -3000, -3000]], dtype=int16)"
      ]
     },
     "execution_count": 127,
     "metadata": {},
     "output_type": "execute_result"
    }
   ],
   "source": [
    "dataArray"
   ]
  },
  {
   "cell_type": "code",
   "execution_count": null,
   "metadata": {},
   "outputs": [],
   "source": []
  }
 ],
 "metadata": {
  "kernelspec": {
   "display_name": "Python 3",
   "language": "python",
   "name": "python3"
  },
  "language_info": {
   "codemirror_mode": {
    "name": "ipython",
    "version": 3
   },
   "file_extension": ".py",
   "mimetype": "text/x-python",
   "name": "python",
   "nbconvert_exporter": "python",
   "pygments_lexer": "ipython3",
   "version": "3.8.5"
  }
 },
 "nbformat": 4,
 "nbformat_minor": 4
}
