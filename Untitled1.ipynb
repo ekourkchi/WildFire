{
 "cells": [
  {
   "cell_type": "code",
   "execution_count": 3,
   "metadata": {},
   "outputs": [],
   "source": [
    "import imghdr\n",
    "import os\n",
    "from flask import Flask, render_template, request, redirect, url_for, abort, \\\n",
    "    send_from_directory\n",
    "from werkzeug.utils import secure_filename\n",
    "\n",
    "app = Flask(__name__)\n",
    "app.config['MAX_CONTENT_LENGTH'] = 1024 * 1024\n",
    "app.config['UPLOAD_EXTENSIONS'] = ['.jpg', '.png', '.gif']\n",
    "app.config['UPLOAD_PATH'] = 'uploads'\n",
    "\n",
    "def validate_image(stream):\n",
    "    header = stream.read(512)  # 512 bytes should be enough for a header check\n",
    "    stream.seek(0)  # reset stream pointer\n",
    "    format = imghdr.what(None, header)\n",
    "    if not format:\n",
    "        return None\n",
    "    return '.' + (format if format != 'jpeg' else 'jpg')\n",
    "\n",
    "@app.route('/')\n",
    "def index():\n",
    "    files = os.listdir(app.config['UPLOAD_PATH'])\n",
    "    return render_template('index.html', files=files)\n",
    "\n",
    "@app.route('/', methods=['POST'])\n",
    "def upload_files():\n",
    "    uploaded_file = request.files['file']\n",
    "    filename = secure_filename(uploaded_file.filename)\n",
    "    if filename != '':\n",
    "        file_ext = os.path.splitext(filename)[1]\n",
    "        if file_ext not in app.config['UPLOAD_EXTENSIONS'] or \\\n",
    "                file_ext != validate_image(uploaded_file.stream):\n",
    "            abort(400)\n",
    "        uploaded_file.save(os.path.join(app.config['UPLOAD_PATH'], filename))\n",
    "    return redirect(url_for('index'))\n",
    "\n",
    "@app.route('/uploads/<filename>')\n",
    "def upload(filename):\n",
    "    return send_from_directory(app.config['UPLOAD_PATH'], filename)"
   ]
  },
  {
   "cell_type": "code",
   "execution_count": null,
   "metadata": {},
   "outputs": [],
   "source": []
  },
  {
   "cell_type": "code",
   "execution_count": null,
   "metadata": {},
   "outputs": [],
   "source": []
  }
 ],
 "metadata": {
  "kernelspec": {
   "display_name": "Python 3",
   "language": "python",
   "name": "python3"
  },
  "language_info": {
   "codemirror_mode": {
    "name": "ipython",
    "version": 3
   },
   "file_extension": ".py",
   "mimetype": "text/x-python",
   "name": "python",
   "nbconvert_exporter": "python",
   "pygments_lexer": "ipython3",
   "version": "3.8.5"
  }
 },
 "nbformat": 4,
 "nbformat_minor": 4
}
