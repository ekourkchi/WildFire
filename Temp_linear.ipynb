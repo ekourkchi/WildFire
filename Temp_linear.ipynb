{
 "cells": [
  {
   "cell_type": "code",
   "execution_count": 2,
   "metadata": {},
   "outputs": [],
   "source": [
    "import sys\n",
    "import os\n",
    "import time\n",
    "import pylab as py\n",
    "import pandas as pd\n",
    "import numpy as np\n",
    "from scipy.optimize import curve_fit, minimize\n",
    "from sklearn.metrics import r2_score, mean_squared_error\n",
    "import matplotlib\n",
    "import matplotlib.pyplot as plt\n",
    "from datetime import date, timedelta\n",
    "from datetime import datetime\n",
    "from sklearn.model_selection import LeaveOneOut, KFold\n",
    "\n",
    "from Temp_linear import *"
   ]
  },
  {
   "cell_type": "code",
   "execution_count": null,
   "metadata": {},
   "outputs": [],
   "source": []
  },
  {
   "cell_type": "code",
   "execution_count": null,
   "metadata": {},
   "outputs": [],
   "source": [
    "iCODE = 'BI' # str(sys.argv[1])\n",
    "mode = 'max'\n",
    "params = [\"ELEV.m.\", \"coastDist\", \"lai\", \"tpi\", \"RF\"]\n",
    "\n",
    "params = [\"ELEV.m.\"]\n",
    "Gnerate_Metrics(iCODE, params, mode)"
   ]
  },
  {
   "cell_type": "code",
   "execution_count": null,
   "metadata": {},
   "outputs": [],
   "source": []
  },
  {
   "cell_type": "code",
   "execution_count": 26,
   "metadata": {},
   "outputs": [],
   "source": [
    "u = np.asarray([1,3,5,3,5,3,5])\n",
    "v = np.asarray([3,4,5,2,5,4,6])\n",
    "\n",
    "\n",
    "delta = u - v\n",
    "indx = np.argsort(delta)\n",
    "u = u[indx] ; v = v[indx]\n",
    "N = len(u)\n",
    "i = int(np.ceil(1*N/9)); j = int(np.floor(8*N/9))\n",
    "u = u[i:j]; v = v[i:j]\n",
    "\n",
    "### Here we do some sigma clipping (assuming that residuals are normally distributed)\n",
    "delta = u - v\n",
    "mean = np.median(delta)\n",
    "std  = np.std(delta)\n",
    "indx = ((delta>mean-3.0*std) & (delta<mean+3.0*std))\n",
    "u = u[indx] ; v = v[indx]"
   ]
  },
  {
   "cell_type": "code",
   "execution_count": 27,
   "metadata": {},
   "outputs": [
    {
     "data": {
      "text/plain": [
       "(array([3, 3, 5, 5, 5]), array([4, 4, 6, 5, 5]))"
      ]
     },
     "execution_count": 27,
     "metadata": {},
     "output_type": "execute_result"
    }
   ],
   "source": [
    "u, v"
   ]
  },
  {
   "cell_type": "code",
   "execution_count": null,
   "metadata": {},
   "outputs": [],
   "source": []
  },
  {
   "cell_type": "code",
   "execution_count": null,
   "metadata": {},
   "outputs": [],
   "source": []
  },
  {
   "cell_type": "code",
   "execution_count": null,
   "metadata": {},
   "outputs": [],
   "source": []
  }
 ],
 "metadata": {
  "kernelspec": {
   "display_name": "Python 3",
   "language": "python",
   "name": "python3"
  },
  "language_info": {
   "codemirror_mode": {
    "name": "ipython",
    "version": 3
   },
   "file_extension": ".py",
   "mimetype": "text/x-python",
   "name": "python",
   "nbconvert_exporter": "python",
   "pygments_lexer": "ipython3",
   "version": "3.8.5"
  }
 },
 "nbformat": 4,
 "nbformat_minor": 4
}
